{
 "cells": [
  {
   "cell_type": "code",
   "execution_count": 73,
   "metadata": {},
   "outputs": [],
   "source": [
    "using LinearAlgebra\n",
    "using Plots"
   ]
  },
  {
   "attachments": {},
   "cell_type": "markdown",
   "metadata": {},
   "source": [
    "### Plotting Trends"
   ]
  },
  {
   "cell_type": "code",
   "execution_count": 74,
   "metadata": {},
   "outputs": [],
   "source": [
    "r_20 = ([2.499, 6.347, 4.433])/norm([2.499, 6.347, 4.433])\n",
    "o_20 = ([5, 14, 8.0])/norm([5, 14, 8.0])\n",
    "# o_20 = ([5, 14, 8.0])/66.67\n",
    "r_30 = ([7.173, 14.316, 11.273])/norm([7.173, 14.316, 11.273])\n",
    "o_30 = ([13, 23.0, 17.0])/norm([13, 23.0, 17.0])\n",
    "# o_30 = ([13, 23.0, 17.0])/66.67\n",
    "r_50 = ([8.875, 17.658, 13.01])/norm([8.875, 17.658, 13.01])\n",
    "o_50 = ([17, 31, 19.5])/norm([17, 31, 19.5])\n",
    "# o_50 = ([17, 31, 19.5])/66.67\n",
    "r_100 = ([15.422, 26.237, 24.019])/norm([15.422, 26.237, 24.019])\n",
    "o_100 = ([31.5, 44.0, 40.0])/norm([31.5, 44.0, 40.0])\n",
    "# o_100 = ([31.5, 44.0, 40.0])/66.67\n",
    "r_200 = ([24.55, 35.298, 37.104])/norm([24.55, 35.298, 37.104])\n",
    "o_200 = ([53.5, 50, 52.0])/norm([53.5, 50, 52.0])\n",
    "# o_200 = ([53.5, 50, 52.0])/66.67\n",
    "r_1000 = ([33.261, 17.739, 49.152])/norm([33.261, 17.739, 49.152])\n",
    "o_1000 = ([66, 23, 59.5])/norm([66, 23, 59.5]);\n",
    "# o_1000 = ([66, 23, 59.5])/66.67\n"
   ]
  },
  {
   "cell_type": "code",
   "execution_count": 75,
   "metadata": {},
   "outputs": [],
   "source": [
    "reward = hcat(r_20, r_30, r_50, r_100, r_200, r_1000);\n",
    "observed = hcat(o_20, o_30, o_50, o_100, o_200, o_1000);"
   ]
  },
  {
   "cell_type": "code",
   "execution_count": 76,
   "metadata": {},
   "outputs": [
    {
     "data": {
      "text/plain": [
       "3×6 Matrix{Float64}:\n",
       " 0.307185  0.366294  0.375094  0.397779  0.432277  0.536965\n",
       " 0.780193  0.731055  0.7463    0.676731  0.621529  0.286378\n",
       " 0.544918  0.575663  0.549856  0.619522  0.653329  0.793509"
      ]
     },
     "execution_count": 76,
     "metadata": {},
     "output_type": "execute_result"
    }
   ],
   "source": [
    "reward"
   ]
  },
  {
   "cell_type": "code",
   "execution_count": 77,
   "metadata": {},
   "outputs": [
    {
     "data": {
      "text/plain": [
       "6-element Vector{Int64}:\n",
       "   20\n",
       "   30\n",
       "   50\n",
       "  100\n",
       "  200\n",
       " 1000"
      ]
     },
     "execution_count": 77,
     "metadata": {},
     "output_type": "execute_result"
    }
   ],
   "source": [
    "x_axis = [20, 30, 50, 100, 200, 1000]"
   ]
  },
  {
   "cell_type": "code",
   "execution_count": 81,
   "metadata": {},
   "outputs": [
    {
     "data": {
      "text/plain": [
       "\"/home/gigavoltflash/stanford_classes/AA_228/AA228-Final-Project/dev-anshuk/Reward_trend.png\""
      ]
     },
     "execution_count": 81,
     "metadata": {},
     "output_type": "execute_result"
    }
   ],
   "source": [
    "# f = Figure()\n",
    "plot(x_axis, reward[1,:], xaxis=:log10, marker=:circle, label=\"Baseline Greedy Policy\")\n",
    "plot!(x_axis, reward[2,:], xaxis=:log10, marker=:circle, label=\"MCTS with Random Rollouts\")\n",
    "plot!(x_axis, reward[3,:], xaxis=:log10, marker=:circle, label=\"MCTS with One Step Lookahead\", xlabel=\"Number of targets\", ylabel=\"Normalized reward\", legend=:right)\n",
    "savefig(\"Reward_trend.png\")"
   ]
  },
  {
   "cell_type": "code",
   "execution_count": 82,
   "metadata": {},
   "outputs": [
    {
     "data": {
      "text/plain": [
       "\"/home/gigavoltflash/stanford_classes/AA_228/AA228-Final-Project/dev-anshuk/Observed_trend.png\""
      ]
     },
     "execution_count": 82,
     "metadata": {},
     "output_type": "execute_result"
    }
   ],
   "source": [
    "plot(x_axis, observed[1,:], xaxis=:log10, marker=:circle, label=\"Baseline Greedy Policy\")\n",
    "plot!(x_axis, observed[2,:], xaxis=:log10, marker=:circle, label=\"MCTS with Random Rollouts\")\n",
    "plot!(x_axis, observed[3,:], xaxis=:log10, marker=:circle, label=\"MCTS with One Step Lookahead\", xlabel=\"Number of targets\", ylabel=\"Normalized no. of targets observed\")\n",
    "savefig(\"Observed_trend.png\")"
   ]
  },
  {
   "cell_type": "code",
   "execution_count": null,
   "metadata": {},
   "outputs": [],
   "source": []
  }
 ],
 "metadata": {
  "kernelspec": {
   "display_name": "Julia 1.9.3",
   "language": "julia",
   "name": "julia-1.9"
  },
  "language_info": {
   "file_extension": ".jl",
   "mimetype": "application/julia",
   "name": "julia",
   "version": "1.9.3"
  },
  "orig_nbformat": 4
 },
 "nbformat": 4,
 "nbformat_minor": 2
}
