{
 "cells": [
  {
   "cell_type": "code",
   "execution_count": 2,
   "metadata": {},
   "outputs": [],
   "source": [
    "using LinearAlgebra\n",
    "using Plots"
   ]
  },
  {
   "attachments": {},
   "cell_type": "markdown",
   "metadata": {},
   "source": [
    "### Plotting Trends"
   ]
  },
  {
   "cell_type": "code",
   "execution_count": 21,
   "metadata": {},
   "outputs": [],
   "source": [
    "r_50 = ([.875, 17.658, 13.01])/norm([.875, 17.658, 13.01])\n",
    "o_50 = ([17, 31, 19.5])/norm([17, 31, 19.5])\n",
    "# o_50 = ([17, 31, 19.5])/50\n",
    "r_100 = ([15.422, 26.237, 24.019])/norm([15.422, 26.237, 24.019])\n",
    "o_100 = ([31.5, 44.0, 40.0])/norm([31.5, 44.0, 40.0])\n",
    "# o_100 = ([31.5, 44.0, 40.0])/100\n",
    "r_1000 = ([33.261, 17.739, 49.152])/norm([33.261, 17.739, 49.152])\n",
    "o_1000 = ([66, 23, 59.5])/norm([66, 23, 59.5]);\n",
    "# o_1000 = ([66, 23, 59.5])/1000;\n"
   ]
  },
  {
   "cell_type": "code",
   "execution_count": 22,
   "metadata": {},
   "outputs": [],
   "source": [
    "reward = hcat(r_50, r_100, r_1000);\n",
    "observed = hcat(o_50, o_100, o_1000);"
   ]
  },
  {
   "cell_type": "code",
   "execution_count": 23,
   "metadata": {},
   "outputs": [
    {
     "data": {
      "text/plain": [
       "3×3 Matrix{Float64}:\n",
       " 0.0398622  0.397779  0.536965\n",
       " 0.804441   0.676731  0.286378\n",
       " 0.592693   0.619522  0.793509"
      ]
     },
     "execution_count": 23,
     "metadata": {},
     "output_type": "execute_result"
    }
   ],
   "source": [
    "reward"
   ]
  },
  {
   "cell_type": "code",
   "execution_count": 24,
   "metadata": {},
   "outputs": [
    {
     "data": {
      "text/plain": [
       "3-element Vector{Int64}:\n",
       "   50\n",
       "  100\n",
       " 1000"
      ]
     },
     "execution_count": 24,
     "metadata": {},
     "output_type": "execute_result"
    }
   ],
   "source": [
    "x_axis = [50, 100, 1000]"
   ]
  },
  {
   "cell_type": "code",
   "execution_count": 27,
   "metadata": {},
   "outputs": [
    {
     "data": {
      "text/plain": [
       "\"/home/gigavoltflash/stanford_classes/AA_228/AA228-Final-Project/dev-anshuk/Reward_trend.png\""
      ]
     },
     "execution_count": 27,
     "metadata": {},
     "output_type": "execute_result"
    }
   ],
   "source": [
    "# f = Figure()\n",
    "plot(x_axis, reward[1,:], xaxis=:log10, marker=:circle, label=\"Baseline Heuristic\")\n",
    "plot!(x_axis, reward[2,:], xaxis=:log10, marker=:circle, label=\"MCTS with Random Rollouts\")\n",
    "plot!(x_axis, reward[3,:], xaxis=:log10, marker=:circle, label=\"MCTS with Heuristic Rollout\", xlabel=\"Number of targets\", ylabel=\"Normalized reward\")\n",
    "savefig(\"Reward_trend.png\")"
   ]
  },
  {
   "cell_type": "code",
   "execution_count": 26,
   "metadata": {},
   "outputs": [
    {
     "data": {
      "text/plain": [
       "\"/home/gigavoltflash/stanford_classes/AA_228/AA228-Final-Project/dev-anshuk/Observed_trend.png\""
      ]
     },
     "execution_count": 26,
     "metadata": {},
     "output_type": "execute_result"
    }
   ],
   "source": [
    "plot(x_axis, observed[1,:], xaxis=:log10, marker=:circle, label=\"Baseline Heuristic\")\n",
    "plot!(x_axis, observed[2,:], xaxis=:log10, marker=:circle, label=\"MCTS with Random Rollouts\")\n",
    "plot!(x_axis, observed[3,:], xaxis=:log10, marker=:circle, label=\"MCTS with Heuristic Rollout\", xlabel=\"Number of targets\", ylabel=\"Normalized no. of targets observed\")\n",
    "savefig(\"Observed_trend.png\")"
   ]
  }
 ],
 "metadata": {
  "kernelspec": {
   "display_name": "Julia 1.9.3",
   "language": "julia",
   "name": "julia-1.9"
  },
  "language_info": {
   "file_extension": ".jl",
   "mimetype": "application/julia",
   "name": "julia",
   "version": "1.9.3"
  },
  "orig_nbformat": 4
 },
 "nbformat": 4,
 "nbformat_minor": 2
}
