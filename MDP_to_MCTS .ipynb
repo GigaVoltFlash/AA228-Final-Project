{
 "cells": [
  {
   "cell_type": "code",
   "execution_count": 3,
   "id": "0b9321d6",
   "metadata": {},
   "outputs": [],
   "source": [
    "struct MDP \n",
    "    γ \n",
    "    S\n",
    "    A \n",
    "    T \n",
    "    R \n",
    "    TR \n",
    "end \n"
   ]
  },
  {
   "cell_type": "code",
   "execution_count": 11,
   "id": "e69c2533",
   "metadata": {},
   "outputs": [
    {
     "data": {
      "text/plain": [
       "Lookahead (generic function with 2 methods)"
      ]
     },
     "execution_count": 11,
     "metadata": {},
     "output_type": "execute_result"
    }
   ],
   "source": [
    "function lookahead(P::MDP, U, s, a)\n",
    "    S,T,R,γ = P.S, P.T, P.R, P.γ\n",
    "    return R(s,a) + γ * sum(T(s,a,s_)*U(s_) for s_ in S)\n",
    "end \n",
    "\n",
    "# when U is not a fucntion but a vector s.t. each element corresponds to each state variation \n",
    "function lookahead(P::MDP, U::Vector, s, a)  \n",
    "    S,T,R,γ = P.S, P.T, P.R, P.γ\n",
    "    return R(s,a) + γ * sum(T(s,a,s_)*U[i] for (i,s_) in enumerate(S))\n",
    "end \n"
   ]
  },
  {
   "cell_type": "code",
   "execution_count": null,
   "id": "887efce4",
   "metadata": {},
   "outputs": [],
   "source": [
    "function gredy(P::MDP, U, s)\n",
    "    u,a = findmax(a->lookahead(P,U,s,a), P.A)\n",
    "    return (a=a, u=u)\n",
    "end \n"
   ]
  },
  {
   "cell_type": "markdown",
   "id": "dbacc5c7",
   "metadata": {},
   "source": [
    "### Lookahead with rollout"
   ]
  },
  {
   "cell_type": "code",
   "execution_count": 4,
   "id": "3c614996",
   "metadata": {},
   "outputs": [],
   "source": [
    "struct RolloutLookahead\n",
    "    P\n",
    "    π\n",
    "    d\n",
    "end "
   ]
  },
  {
   "cell_type": "code",
   "execution_count": 9,
   "id": "81db96b7",
   "metadata": {},
   "outputs": [],
   "source": [
    "randstep(P::MDP, s, a) = P.TR(s,a)\n",
    "\n",
    "function rollout(P, s, π, d)\n",
    "    ret = 0.0 \n",
    "    for t in 1:d\n",
    "        a = π(s)\n",
    "        s,r = randstep(P,s,a)\n",
    "        ret += P.γ^(t-1) * r\n",
    "    end \n",
    "    return ret \n",
    "end \n",
    "\n",
    "function (π::RolloutLookahead)(s)\n",
    "    U(s) = rollout(π.P, s, π.π, π.d)  # this sets up the utility function for any s \n",
    "    return greedy(π.P, U, s).a\n",
    "end \n"
   ]
  },
  {
   "cell_type": "markdown",
   "id": "870f2695",
   "metadata": {},
   "source": [
    "### Forward Search "
   ]
  },
  {
   "cell_type": "code",
   "execution_count": 13,
   "id": "0415f3e4",
   "metadata": {},
   "outputs": [],
   "source": [
    "struct ForwardSearch\n",
    "    P\n",
    "    d \n",
    "    U \n",
    "end \n",
    "\n",
    "function forward_search(P, s, d, U)\n",
    "    if d <= 0 \n",
    "        return (a=nothing, u=U(s))\n",
    "    end \n",
    "    \n",
    "    # if there are some depth left to go \n",
    "    best = (a=nothing, u=-Inf)\n",
    "    U_(s) = forward_search(P,s,d-1,U).u\n",
    "    for a in P.A\n",
    "        u = lookahead(P, U_, s, a)\n",
    "        if u > best.u \n",
    "            best = (a=a, u=u)\n",
    "        end \n",
    "    end \n",
    "    return best \n",
    "end \n",
    "\n",
    "(π::ForwardSearch)(s) = forward_search(π.P, s, π.d, π.U).a"
   ]
  },
  {
   "cell_type": "markdown",
   "id": "cc378749",
   "metadata": {},
   "source": [
    "### Branch and Bound "
   ]
  },
  {
   "cell_type": "code",
   "execution_count": 16,
   "id": "8478098e",
   "metadata": {},
   "outputs": [],
   "source": [
    "struct BranchAndBound \n",
    "    P\n",
    "    d\n",
    "    Ulo  # this is a function of s. lb on value function U(s) at depth d\n",
    "    Qhi  # this is a function of (s,a). ub on the action value function \n",
    "end\n",
    "\n",
    "function branch_and_bound(P,s,d,Ulo,Qhi)\n",
    "    if d <= 0 \n",
    "        return (a=nothing, u=Ulo(s))\n",
    "    end \n",
    "    U_(s) = branch_and_bound(P,s,d-1,Ulo,Qhi).u\n",
    "    best = (a=nothing, u=-Inf)\n",
    "    for a in sort(P.A, by=a->Q(s,a), rev=true)  # rev=true ; big -> small \n",
    "        if Qhi(s,a) < best.u\n",
    "            return best   # safe to prune \n",
    "        end \n",
    "        # Qhi > best.u  -> it could be the best one! so explore a bit more\n",
    "        u = lookahead(P,U_,s,a)\n",
    "        if u > best.u  # yay! we find the best utility ever  \n",
    "            best = (a=a, u=u)\n",
    "        end \n",
    "    end \n",
    "    return best \n",
    "end \n",
    "\n",
    "(π::BranchAndBound)(s) = branch_and_bound(π.P, s, π.d, π.Ulo, π.Qhi)        "
   ]
  },
  {
   "cell_type": "markdown",
   "id": "69d86853",
   "metadata": {},
   "source": [
    "### MCTS"
   ]
  },
  {
   "cell_type": "code",
   "execution_count": 17,
   "id": "8ca33384",
   "metadata": {},
   "outputs": [],
   "source": [
    "struct MonteCarloTreeSearch\n",
    "    P\n",
    "    N   # visit count\n",
    "    Q   # action-value estimate\n",
    "    d   \n",
    "    m   # num of simulations\n",
    "    c   # exploration constant \n",
    "    U   # value function estimate \n",
    "end \n",
    "\n",
    "function (π::MonteCarloTreeSearch)(s)\n",
    "    for k in 1:π.m\n",
    "        simulate!(π,s)\n",
    "    end \n",
    "    return argmax(a->π.Q[(s,a)], π.P.A)\n",
    "end \n"
   ]
  },
  {
   "cell_type": "code",
   "execution_count": 18,
   "id": "f3120f56",
   "metadata": {},
   "outputs": [
    {
     "data": {
      "text/plain": [
       "explore (generic function with 1 method)"
      ]
     },
     "execution_count": 18,
     "metadata": {},
     "output_type": "execute_result"
    }
   ],
   "source": [
    "function simulate!(π::MonteCarloTreeSearch, s, d=π.d)\n",
    "    if d <= 0 \n",
    "        return π.U(s)\n",
    "    end \n",
    "    P, N, Q, c = π.P, π.N, π.Q, π.c\n",
    "    A, TR, γ = P.A, P.TR, P.γ\n",
    "    \n",
    "    if !haskey(N,(s,first(A)))  # if (s,a) has never been visited\n",
    "        for a in A \n",
    "            N[(s,a)] = 0 \n",
    "            Q[(s,a)] = 0\n",
    "        end \n",
    "        return π.U(s)    # make an zero utility function, and that's it for now \n",
    "    end \n",
    "    \n",
    "    # if (s,a) has been visited\n",
    "    a = explore(π,s)\n",
    "    s_, r = TR(s,a) \n",
    "    q = r + γ * simulate!(π, s_, d-1) \n",
    "    N[(s,a)] += 1  # +1 for visit count \n",
    "    Q[(s,a)] += (q-Q[(s,a)]) / N[(s,a)]  # The more you visited, the update of the Q will (usually) converge \n",
    "    return q \n",
    "end \n",
    "\n",
    "bonus(Nsa, Ns) = Nsa==0 ? Inf : sqrt(log(Ns)/Nsa)\n",
    "\n",
    "function explore(π::MonteCarloTreeSearch, s)\n",
    "    A, N, Q, c = π.P.A, π.N, π.Q, π.c\n",
    "    Ns = sum(N[(s,a)] for a in A)\n",
    "    # objective = Q+bonus term \n",
    "    # if there is no past visit, then that exploration is always prioritized \n",
    "    return argmax(a -> Q[(s,a)] + c*bonus(N[(s,a)], Ns), A)  \n",
    "end \n"
   ]
  },
  {
   "cell_type": "code",
   "execution_count": null,
   "id": "c637cc6b",
   "metadata": {},
   "outputs": [],
   "source": []
  },
  {
   "cell_type": "code",
   "execution_count": null,
   "id": "9676be30",
   "metadata": {},
   "outputs": [],
   "source": []
  },
  {
   "cell_type": "markdown",
   "id": "0350bd37",
   "metadata": {},
   "source": []
  }
 ],
 "metadata": {
  "kernelspec": {
   "display_name": "Julia 1.9.3",
   "language": "julia",
   "name": "julia-1.9"
  },
  "language_info": {
   "file_extension": ".jl",
   "mimetype": "application/julia",
   "name": "julia",
   "version": "1.9.3"
  }
 },
 "nbformat": 4,
 "nbformat_minor": 5
}
